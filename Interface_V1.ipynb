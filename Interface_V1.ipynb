{
 "cells": [
  {
   "cell_type": "code",
   "execution_count": null,
   "metadata": {},
   "outputs": [],
   "source": [
    "# Application de détection de tentative d'hameçonnage par analyse d'URL. "
   ]
  },
  {
   "cell_type": "markdown",
   "metadata": {},
   "source": [
    "## Préparation de l'environnement de travail."
   ]
  },
  {
   "cell_type": "code",
   "execution_count": null,
   "metadata": {},
   "outputs": [],
   "source": [
    "#Importation des librairies utiles.\n",
    "import streamlit as st\n",
    "import joblib\n",
    "import pandas as pd\n",
    "import requests\n",
    "from urllib.parse import urlparse, parse_qs\n",
    "from io import BytesIO\n",
    "import logging\n",
    "\n",
    "#importation du modèle.\n",
    "def load_model(url):\n",
    "    try:\n",
    "        response = requests.get(url)\n",
    "        response.raise_for_status() \n",
    "        model_file = BytesIO(response.content)\n",
    "        model = joblib.load(model_file)\n",
    "        return model\n",
    "    except requests.RequestException as e:\n",
    "        logging.error(f\"Requête sans succès.: {e}\")\n",
    "    except joblib.externals.loky.process_executor.TerminatedWorkerError as e:\n",
    "        logging.error(f\"Erreur lors du téléchargement du modèle (joblib).: {e}\")\n",
    "    except Exception as e:\n",
    "        logging.error(f\"Une erreur s'est produite.: {e}\")\n",
    "\n",
    "# Use the function\n",
    "model_url = 'https://github.com/A-NeuGlia/Phishing-Detection/raw/master/phishing_model.pkl'\n",
    "model = load_model(model_url)\n",
    "if model:\n",
    "    print(\"Modèle téléchargé avec succès.\")\n",
    "else:\n",
    "    print(\"Erreur lors du téléchargement du modèle.\")\n"
   ]
  },
  {
   "cell_type": "markdown",
   "metadata": {},
   "source": [
    "## Création de l'outil d'extraction de caractéristiques utiles."
   ]
  },
  {
   "cell_type": "code",
   "execution_count": null,
   "metadata": {},
   "outputs": [],
   "source": [
    "#Extraction des caractéristiques dont nous nous sommes servis pour créer le modèle.\n",
    "def extract_features(url):\n",
    "    parsed_url = urlparse(url)\n",
    "    domain_parts = parsed_url.netloc.split('.')\n",
    "    subdomain_parts = domain_parts[:-2] if len(domain_parts) > 2 else []\n",
    "    path = parsed_url.path if parsed_url.path else \"/\"\n",
    "    query_components = parse_qs(parsed_url.query)\n",
    "\n",
    "    features = {\n",
    "        'NumDots': url.count('.'),\n",
    "        'SubdomainLevel': len(subdomain_parts),\n",
    "        'PathLevel': path.count('/') - 1,\n",
    "        'UrlLength': len(url),\n",
    "        'NumDash': url.count('-'),\n",
    "        'NumDashInHostname': parsed_url.netloc.count('-'),\n",
    "        'AtSymbol': '@' in url,\n",
    "        'TildeSymbol': '~' in url,\n",
    "        'NumUnderscore': url.count('_'),\n",
    "        'NumPercent': url.count('%'),\n",
    "        'NumQueryComponents': len(query_components),\n",
    "        'NumAmpersand': url.count('&'),\n",
    "        'NumHash': url.count('#'),\n",
    "        'NumNumericChars': sum(c.isdigit() for c in url),\n",
    "        'NoHttps': parsed_url.scheme != 'https',\n",
    "        'RandomString': any(c.isalnum() for c in url),\n",
    "        'IpAddress': parsed_url.netloc.replace('.', '').isdigit(),\n",
    "        'DomainInSubdomains': any(part in subdomain_parts for part in domain_parts),\n",
    "        'DomainInPaths': any(part in path for part in domain_parts),\n",
    "        'HttpsInHostname': 'https' in parsed_url.netloc,\n",
    "        'HostnameLength': len(parsed_url.netloc),\n",
    "        'PathLength': len(path),\n",
    "        'QueryLength': len(parsed_url.query),\n",
    "        'DoubleSlashInPath': '//' in parsed_url.path,\n",
    "        'NumSensitiveWords': sum(1 for word in ['login', 'secure', 'bank'] if word in url.lower()),\n",
    "        'EmbeddedBrandName': any(brand in url.lower() for brand in ['microsoft', 'google']),\n",
    "    }\n",
    "    return features\n"
   ]
  },
  {
   "cell_type": "markdown",
   "metadata": {},
   "source": [
    "## Application du modèle."
   ]
  },
  {
   "cell_type": "code",
   "execution_count": null,
   "metadata": {},
   "outputs": [],
   "source": [
    "#Fonction récupérant les informations nécessaires de l'URL dans une base de données avant d'y appliquer  notre modèle predictif.\n",
    "def check_url(url):\n",
    "    features = extract_features(url)\n",
    "    features_df = pd.DataFrame([features])\n",
    "    prediction = model.predict(features_df)\n",
    "    return \"Phishing\" if prediction[0] == 1 else \"Legitimate\""
   ]
  },
  {
   "cell_type": "markdown",
   "metadata": {},
   "source": [
    "## Interface utilisateur."
   ]
  },
  {
   "cell_type": "code",
   "execution_count": null,
   "metadata": {},
   "outputs": [],
   "source": [
    "#Création de l'interface utilisateur de l'application.\n",
    "st.title('Phishing URL Detector')\n",
    "url = st.text_input(\"Enter the URL to check:\")\n",
    "\n",
    "if st.button(\"Check URL\"):\n",
    "    result = check_url(url)\n",
    "    st.write(f\"The URL is {result}.\")"
   ]
  }
 ],
 "metadata": {
  "language_info": {
   "name": "python"
  }
 },
 "nbformat": 4,
 "nbformat_minor": 2
}
